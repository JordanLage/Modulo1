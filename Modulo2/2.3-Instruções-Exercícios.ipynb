{
  "cells": [
    {
      "cell_type": "markdown",
      "metadata": {
        "id": "1pCTdOHonv5f"
      },
      "source": [
        "# Módulo 2\n",
        "\n",
        "## 2.3 Instruções e Expressões\n",
        "\n",
        "### Q1\n",
        "\n",
        "Faça um programa que armazene o valor de 20 reais de salário por hora de um trabalhador, e o número de 40 horas trabalhadas na semana. Com essas informações, calcule e imprima:\n",
        "- Salário semanal bruto\n",
        "- Valor descontado por semana INSS (10% do bruto)\n",
        "- Valor descontado por semana pelo sindicato (5% do bruto)\n",
        "- Salário semanal líquido (Bruto - Descontos)"
      ]
    },
    {
      "cell_type": "code",
      "execution_count": 22,
      "metadata": {
        "id": "hVbX0I97nj6M"
      },
      "outputs": [
        {
          "name": "stdout",
          "output_type": "stream",
          "text": [
            "O salário semanal é: 800.0\n",
            "O valor descontado semanal pelo inss é: 80.00\n",
            "o valor descontado semanal pelo sindicato é: 40.00\n",
            "O salário liquido semanal é: 680.00\n"
          ]
        }
      ],
      "source": [
        "## Escreva e execute seu código aqui\n",
        "valor_por_hora = 20.0\n",
        "horas_semanais = 40\n",
        "\n",
        "salario_semanal_bruto = valor_por_hora * horas_semanais\n",
        "\n",
        "desconto_inss = salario_semanal_bruto * 0.10\n",
        "desconto_sindicato = salario_semanal_bruto * 0.05\n",
        "\n",
        "salario_semanal_liquido = salario_semanal_bruto - (desconto_inss + desconto_sindicato)\n",
        "\n",
        "print(f'O salário semanal é: {salario_semanal_bruto}')\n",
        "print(f'O valor descontado semanal pelo inss é: {desconto_inss:.2f}')\n",
        "print(f'o valor descontado semanal pelo sindicato é: {desconto_sindicato:.2f}')\n",
        "print(f'O salário liquido semanal é: {salario_semanal_liquido:.2f}')"
      ]
    },
    {
      "cell_type": "markdown",
      "metadata": {
        "id": "pIxKX9J2oGZ1"
      },
      "source": [
        "### Q2\n",
        "\n",
        "Altere o programa anterior para a partir dos valores de horas trabalhadas por semana e salário por hora, calcular **em somente duas instruções**:\n",
        "- Salário semanal bruto\n",
        "- Salário semanal líquido com todos os descontos. Para a segunda instrução, realize todos os cálculos aritméticos em uma expressão composta.\n"
      ]
    },
    {
      "cell_type": "code",
      "execution_count": null,
      "metadata": {
        "id": "pAHw9Xf9oGoi"
      },
      "outputs": [],
      "source": [
        "## Escreva e execute seu código aqui\n",
        "valor_por_hora = 20.0\n",
        "horas_semanais = 40\n",
        "\n",
        "salario_semanal_bruto = valor_por_hora * horas_semanais\n",
        "salario_semanal_liquido = salario_semanal_bruto - (salario_semanal_bruto * 0.10 + salario_semanal_bruto * 0.05)\n",
        "\n",
        "print(f'O salário semanal bruto é: {salario_semanal_bruto}')\n",
        "print(f'O salário líquido semanal é: {salario_semanal_liquido:.2f}')"
      ]
    },
    {
      "cell_type": "markdown",
      "metadata": {
        "id": "m8tlHRuWpBOB"
      },
      "source": [
        "### Q3\n",
        "\n",
        "Você está desenvolvendo um software de conversão de moeda e precisa calcular o valor equivalente em yuan chinês a partir de uma quantia em real. A taxa de câmbio é de 0.69 BRL (real) para 1 CNY (yuan). Escreva um programa que define em uma variável uma quantia em reais (BRL) e calcula o valor equivalente em yuan (CNY). Imprima o resultado."
      ]
    },
    {
      "cell_type": "code",
      "execution_count": 13,
      "metadata": {
        "id": "2bPw7uF6oeL9"
      },
      "outputs": [
        {
          "name": "stdout",
          "output_type": "stream",
          "text": [
            "100 BRL equivale a 144.93 CNY\n"
          ]
        }
      ],
      "source": [
        "## Escreva e execute seu código aqui\n",
        "cambio = 0.69\n",
        "qtd_reais = 100\n",
        "#qtd_reais = int(input(\"Digite o valor em reais:\")) outra alternativa\n",
        "\n",
        "valor_em_yuan = qtd_reais / cambio\n",
        "print(f'{qtd_reais} BRL equivale a {valor_em_yuan:.2f} CNY')"
      ]
    },
    {
      "cell_type": "markdown",
      "metadata": {
        "id": "-Na3ltDCp74A"
      },
      "source": [
        "### Q4\n",
        "\n",
        "Você é um treinador de corrida e deseja calcular a velocidade média que um atleta precisa manter para completar a Maratona Internacional de São Silvestre, que tem uma distância total de 42.195 km. A fórmula para calcular a velocidade média ($v\\_media$) é dada por $v\\_media = \\frac{distancia}{tempo}$ . Escreva um programa em Python para calcular a velocidade média necessária para completar a maratona em 3 horas.\n",
        "\n",
        "**Calcule e imprima o resultado em metros/segundo**, ou seja, converta a distância de quilômetros para metros ($metro = \\frac{km}{1000}$) e a velocidade de horas para segundos $(segundo = \\frac{hora}{3600})$."
      ]
    },
    {
      "cell_type": "code",
      "execution_count": 11,
      "metadata": {
        "id": "Bn6l8kcSrE4L"
      },
      "outputs": [
        {
          "name": "stdout",
          "output_type": "stream",
          "text": [
            "A velocidade média necessária para completar a maratona em 3 horas é de 3.91 metros por segundo.\n"
          ]
        }
      ],
      "source": [
        "distancia_km = 42.195\n",
        "\n",
        "distancia_m = distancia_km * 1000\n",
        "\n",
        "tempo_horas = 3\n",
        "\n",
        "tempo_segundos = tempo_horas * 3600\n",
        "\n",
        "velocidade_media = distancia_m / tempo_segundos\n",
        "print(f\"A velocidade média necessária para completar a maratona em 3 horas é de {velocidade_media:.2f} metros por segundo.\")\n"
      ]
    }
  ],
  "metadata": {
    "colab": {
      "provenance": []
    },
    "kernelspec": {
      "display_name": "Python 3",
      "name": "python3"
    },
    "language_info": {
      "codemirror_mode": {
        "name": "ipython",
        "version": 3
      },
      "file_extension": ".py",
      "mimetype": "text/x-python",
      "name": "python",
      "nbconvert_exporter": "python",
      "pygments_lexer": "ipython3",
      "version": "3.12.3"
    }
  },
  "nbformat": 4,
  "nbformat_minor": 0
}
